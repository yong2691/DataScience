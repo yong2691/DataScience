{
  "nbformat": 4,
  "nbformat_minor": 0,
  "metadata": {
    "colab": {
      "name": "삼성전자 주가예측.ipynb",
      "provenance": [],
      "collapsed_sections": [],
      "authorship_tag": "ABX9TyMz+LPcwaBuHb760EwqGqqL",
      "include_colab_link": true
    },
    "kernelspec": {
      "name": "python3",
      "display_name": "Python 3"
    },
    "language_info": {
      "name": "python"
    }
  },
  "cells": [
    {
      "cell_type": "markdown",
      "metadata": {
        "id": "view-in-github",
        "colab_type": "text"
      },
      "source": [
        "<a href=\"https://colab.research.google.com/github/yong2691/DataScience/blob/main/Deep%20Learning/Samsung_StockPrice_Predict/%EC%82%BC%EC%84%B1%EC%A0%84%EC%9E%90_%EC%A3%BC%EA%B0%80%EC%98%88%EC%B8%A1.ipynb\" target=\"_parent\"><img src=\"https://colab.research.google.com/assets/colab-badge.svg\" alt=\"Open In Colab\"/></a>"
      ]
    },
    {
      "cell_type": "markdown",
      "metadata": {
        "id": "HqwpAJmp0bnO"
      },
      "source": [
        "#LSTM과 FinanceDataReader API를 활용한 삼성전자 주가 예측\n",
        "이번 튜토리얼에서는 딥러닝 모델을 활용하여 삼성전자 주가 예측을 진행해 보겠습니다.\n",
        "\n",
        "이전에도 한 번 공유해 드린 적이 있고, 다시 내용을 작성하는 이유는 이번에는 FinanceDataReader 파이썬 패키지를 활용하여 진행해볼 예정입니다.\n",
        "\n",
        "FinanceDataReader를 활용하면 더이상 파일데이터로 주가 데이터를 수집해올 필요가 없으며, 가장 최신의 업데이트된 데이터를 API 콜을 통해 DataFrame으로 받아올 수 있습니다.\n",
        "\n",
        "또한 TensorFlow에서 윈도우 데이터셋으로 구성하여 코드가 보다 간결해 졌습니다.\n",
        "\n",
        "이전 블로그 글과 비교해보실 분들은 아래 링크를 참고해 주세요."
      ]
    },
    {
      "cell_type": "markdown",
      "metadata": {
        "id": "1HTECpSLDHEu"
      },
      "source": [
        "#LSTM을 활용한 주가 예측 모델\n"
      ]
    },
    {
      "cell_type": "markdown",
      "metadata": {
        "id": "TJHoI6NIDJqL"
      },
      "source": [
        "이번 튜토리얼 에서는 다음과 같은 프로세스 파이프라인으로 주가 예측을 진행합니다.\n",
        "\n",
        "- FinanceDataReader를 활용하여 주가 데이터 받아오기\n",
        "- TensorFlow Dataset 클래스를 활용하여 주가 데이터 구축\n",
        "- LSTM 을 활용한 주가 예측 모델 구축"
      ]
    },
    {
      "cell_type": "markdown",
      "metadata": {
        "id": "TbliPW9FDQiO"
      },
      "source": [
        "#필요한 모듈 import\n"
      ]
    },
    {
      "cell_type": "code",
      "metadata": {
        "id": "daxOyo29DH-g"
      },
      "source": [
        "import pandas as pd\n",
        "import numpy as np\n",
        "import matplotlib.pyplot as plt\n",
        "import seaborn as sns\n",
        "import warnings\n",
        "import os\n",
        "\n",
        "%matplotlib inline\n",
        "warnings.filterwarnings('ignore')\n",
        "\n",
        "plt.rcParams['font.family'] = 'NanumGothic'"
      ],
      "execution_count": 6,
      "outputs": []
    },
    {
      "cell_type": "markdown",
      "metadata": {
        "id": "1v0s24N_DUcE"
      },
      "source": [
        "#데이터 (FinanceDataReader)\n"
      ]
    },
    {
      "cell_type": "markdown",
      "metadata": {
        "id": "gYiBYnxoDYJ9"
      },
      "source": [
        "FinanceDataReader는 주가 데이터를 편리하게 가져올 수 있는 파이썬 패키지입니다.\n",
        "\n",
        "[github](https://github.com/FinanceData/FinanceDataReader)\n",
        "\n",
        "* 마크다운에서 하이퍼링크를 걸고 싶으면?      [하이퍼링크이름]    (주소명)\n",
        "\n",
        "FinanceDataReader가 아직 설치 되지 않으신 분들은 아래의 주석을 해제한 후 명령어로 설치해 주시기 바랍니다.\n",
        "\n"
      ]
    },
    {
      "cell_type": "code",
      "metadata": {
        "colab": {
          "base_uri": "https://localhost:8080/"
        },
        "id": "XWMCYYTnDTHY",
        "outputId": "3e08569a-a54b-4093-926c-cd21f63f9a0e"
      },
      "source": [
        "!pip install finance-datareader\n",
        "import FinanceDataReader as fdr\n"
      ],
      "execution_count": 9,
      "outputs": [
        {
          "output_type": "stream",
          "text": [
            "Collecting finance-datareader\n",
            "  Downloading https://files.pythonhosted.org/packages/83/5e/54306e72b5ff5d5ec6cc9f32cdf19602237f9bb70d64efcd527338388be3/finance_datareader-0.9.31-py3-none-any.whl\n",
            "Requirement already satisfied: tqdm in /usr/local/lib/python3.7/dist-packages (from finance-datareader) (4.41.1)\n",
            "Requirement already satisfied: lxml in /usr/local/lib/python3.7/dist-packages (from finance-datareader) (4.2.6)\n",
            "Requirement already satisfied: pandas>=0.19.2 in /usr/local/lib/python3.7/dist-packages (from finance-datareader) (1.1.5)\n",
            "Collecting requests-file\n",
            "  Downloading https://files.pythonhosted.org/packages/77/86/cdb5e8eaed90796aa83a6d9f75cfbd37af553c47a291cd47bc410ef9bdb2/requests_file-1.5.1-py2.py3-none-any.whl\n",
            "Requirement already satisfied: requests>=2.3.0 in /usr/local/lib/python3.7/dist-packages (from finance-datareader) (2.23.0)\n",
            "Requirement already satisfied: pytz>=2017.2 in /usr/local/lib/python3.7/dist-packages (from pandas>=0.19.2->finance-datareader) (2018.9)\n",
            "Requirement already satisfied: numpy>=1.15.4 in /usr/local/lib/python3.7/dist-packages (from pandas>=0.19.2->finance-datareader) (1.19.5)\n",
            "Requirement already satisfied: python-dateutil>=2.7.3 in /usr/local/lib/python3.7/dist-packages (from pandas>=0.19.2->finance-datareader) (2.8.1)\n",
            "Requirement already satisfied: six in /usr/local/lib/python3.7/dist-packages (from requests-file->finance-datareader) (1.15.0)\n",
            "Requirement already satisfied: chardet<4,>=3.0.2 in /usr/local/lib/python3.7/dist-packages (from requests>=2.3.0->finance-datareader) (3.0.4)\n",
            "Requirement already satisfied: urllib3!=1.25.0,!=1.25.1,<1.26,>=1.21.1 in /usr/local/lib/python3.7/dist-packages (from requests>=2.3.0->finance-datareader) (1.24.3)\n",
            "Requirement already satisfied: idna<3,>=2.5 in /usr/local/lib/python3.7/dist-packages (from requests>=2.3.0->finance-datareader) (2.10)\n",
            "Requirement already satisfied: certifi>=2017.4.17 in /usr/local/lib/python3.7/dist-packages (from requests>=2.3.0->finance-datareader) (2021.5.30)\n",
            "Installing collected packages: requests-file, finance-datareader\n",
            "Successfully installed finance-datareader-0.9.31 requests-file-1.5.1\n"
          ],
          "name": "stdout"
        }
      ]
    },
    {
      "cell_type": "code",
      "metadata": {
        "id": "bebtX8yzEAzc"
      },
      "source": [
        "# 삼성전자(005930) 전체 (1996-11-05 ~ 현재)\n",
        "samsung = fdr.DataReader('005930')"
      ],
      "execution_count": 10,
      "outputs": []
    },
    {
      "cell_type": "markdown",
      "metadata": {
        "id": "EI4IZeitEh8L"
      },
      "source": [
        "매우 편리하게 삼성전자 주가 데이터를 DataFrame형식으로 받아옵니다.\n",
        "\n",
        "기본 오름차순 정렬이 된 데이터임을 알 수 있습니다.\n",
        "\n",
        "컬럼 설명\n",
        "Open: 시가\n",
        "High: 고가\n",
        "Low: 저가\n",
        "Close: 종가\n",
        "Volume: 거래량\n",
        "Change: 대비"
      ]
    },
    {
      "cell_type": "code",
      "metadata": {
        "colab": {
          "base_uri": "https://localhost:8080/",
          "height": 235
        },
        "id": "K70-Ym3hEIPl",
        "outputId": "3a68fa72-69aa-4465-e55d-fc8dad199194"
      },
      "source": [
        "samsung.tail()"
      ],
      "execution_count": 11,
      "outputs": [
        {
          "output_type": "execute_result",
          "data": {
            "text/html": [
              "<div>\n",
              "<style scoped>\n",
              "    .dataframe tbody tr th:only-of-type {\n",
              "        vertical-align: middle;\n",
              "    }\n",
              "\n",
              "    .dataframe tbody tr th {\n",
              "        vertical-align: top;\n",
              "    }\n",
              "\n",
              "    .dataframe thead th {\n",
              "        text-align: right;\n",
              "    }\n",
              "</style>\n",
              "<table border=\"1\" class=\"dataframe\">\n",
              "  <thead>\n",
              "    <tr style=\"text-align: right;\">\n",
              "      <th></th>\n",
              "      <th>Open</th>\n",
              "      <th>High</th>\n",
              "      <th>Low</th>\n",
              "      <th>Close</th>\n",
              "      <th>Volume</th>\n",
              "      <th>Change</th>\n",
              "    </tr>\n",
              "    <tr>\n",
              "      <th>Date</th>\n",
              "      <th></th>\n",
              "      <th></th>\n",
              "      <th></th>\n",
              "      <th></th>\n",
              "      <th></th>\n",
              "      <th></th>\n",
              "    </tr>\n",
              "  </thead>\n",
              "  <tbody>\n",
              "    <tr>\n",
              "      <th>2021-07-12</th>\n",
              "      <td>79900</td>\n",
              "      <td>80000</td>\n",
              "      <td>79500</td>\n",
              "      <td>79700</td>\n",
              "      <td>9768108</td>\n",
              "      <td>0.003778</td>\n",
              "    </tr>\n",
              "    <tr>\n",
              "      <th>2021-07-13</th>\n",
              "      <td>80000</td>\n",
              "      <td>80200</td>\n",
              "      <td>79800</td>\n",
              "      <td>79800</td>\n",
              "      <td>9863450</td>\n",
              "      <td>0.001255</td>\n",
              "    </tr>\n",
              "    <tr>\n",
              "      <th>2021-07-14</th>\n",
              "      <td>79400</td>\n",
              "      <td>79600</td>\n",
              "      <td>79100</td>\n",
              "      <td>79500</td>\n",
              "      <td>11575636</td>\n",
              "      <td>-0.003759</td>\n",
              "    </tr>\n",
              "    <tr>\n",
              "      <th>2021-07-15</th>\n",
              "      <td>79800</td>\n",
              "      <td>80600</td>\n",
              "      <td>79500</td>\n",
              "      <td>80600</td>\n",
              "      <td>13766279</td>\n",
              "      <td>0.013836</td>\n",
              "    </tr>\n",
              "    <tr>\n",
              "      <th>2021-07-16</th>\n",
              "      <td>80100</td>\n",
              "      <td>80100</td>\n",
              "      <td>79500</td>\n",
              "      <td>79800</td>\n",
              "      <td>10777389</td>\n",
              "      <td>-0.009926</td>\n",
              "    </tr>\n",
              "  </tbody>\n",
              "</table>\n",
              "</div>"
            ],
            "text/plain": [
              "             Open   High    Low  Close    Volume    Change\n",
              "Date                                                      \n",
              "2021-07-12  79900  80000  79500  79700   9768108  0.003778\n",
              "2021-07-13  80000  80200  79800  79800   9863450  0.001255\n",
              "2021-07-14  79400  79600  79100  79500  11575636 -0.003759\n",
              "2021-07-15  79800  80600  79500  80600  13766279  0.013836\n",
              "2021-07-16  80100  80100  79500  79800  10777389 -0.009926"
            ]
          },
          "metadata": {
            "tags": []
          },
          "execution_count": 11
        }
      ]
    },
    {
      "cell_type": "markdown",
      "metadata": {
        "id": "__VbivbeEnLr"
      },
      "source": [
        "미국 주식 데이터도 가져올 수 있습니다.\n",
        "\n"
      ]
    },
    {
      "cell_type": "code",
      "metadata": {
        "id": "hr6FpzCbFB4L"
      },
      "source": [
        "# Apple(AAPL), 애플\n",
        "apple = fdr.DataReader('AAPL')"
      ],
      "execution_count": 13,
      "outputs": []
    },
    {
      "cell_type": "code",
      "metadata": {
        "colab": {
          "base_uri": "https://localhost:8080/",
          "height": 235
        },
        "id": "kAtowIF5Elo4",
        "outputId": "08065dcf-e4b0-41e0-9ef4-d8e03946c288"
      },
      "source": [
        "apple.tail()\n"
      ],
      "execution_count": 14,
      "outputs": [
        {
          "output_type": "execute_result",
          "data": {
            "text/html": [
              "<div>\n",
              "<style scoped>\n",
              "    .dataframe tbody tr th:only-of-type {\n",
              "        vertical-align: middle;\n",
              "    }\n",
              "\n",
              "    .dataframe tbody tr th {\n",
              "        vertical-align: top;\n",
              "    }\n",
              "\n",
              "    .dataframe thead th {\n",
              "        text-align: right;\n",
              "    }\n",
              "</style>\n",
              "<table border=\"1\" class=\"dataframe\">\n",
              "  <thead>\n",
              "    <tr style=\"text-align: right;\">\n",
              "      <th></th>\n",
              "      <th>Close</th>\n",
              "      <th>Open</th>\n",
              "      <th>High</th>\n",
              "      <th>Low</th>\n",
              "      <th>Volume</th>\n",
              "      <th>Change</th>\n",
              "    </tr>\n",
              "    <tr>\n",
              "      <th>Date</th>\n",
              "      <th></th>\n",
              "      <th></th>\n",
              "      <th></th>\n",
              "      <th></th>\n",
              "      <th></th>\n",
              "      <th></th>\n",
              "    </tr>\n",
              "  </thead>\n",
              "  <tbody>\n",
              "    <tr>\n",
              "      <th>2021-07-09</th>\n",
              "      <td>145.11</td>\n",
              "      <td>142.75</td>\n",
              "      <td>145.65</td>\n",
              "      <td>142.65</td>\n",
              "      <td>99890000.0</td>\n",
              "      <td>0.0131</td>\n",
              "    </tr>\n",
              "    <tr>\n",
              "      <th>2021-07-12</th>\n",
              "      <td>144.50</td>\n",
              "      <td>146.22</td>\n",
              "      <td>146.22</td>\n",
              "      <td>144.04</td>\n",
              "      <td>76300000.0</td>\n",
              "      <td>-0.0042</td>\n",
              "    </tr>\n",
              "    <tr>\n",
              "      <th>2021-07-13</th>\n",
              "      <td>145.64</td>\n",
              "      <td>143.70</td>\n",
              "      <td>147.46</td>\n",
              "      <td>143.70</td>\n",
              "      <td>100830000.0</td>\n",
              "      <td>0.0079</td>\n",
              "    </tr>\n",
              "    <tr>\n",
              "      <th>2021-07-14</th>\n",
              "      <td>149.15</td>\n",
              "      <td>148.00</td>\n",
              "      <td>149.57</td>\n",
              "      <td>147.70</td>\n",
              "      <td>127050000.0</td>\n",
              "      <td>0.0241</td>\n",
              "    </tr>\n",
              "    <tr>\n",
              "      <th>2021-07-15</th>\n",
              "      <td>148.48</td>\n",
              "      <td>149.25</td>\n",
              "      <td>149.98</td>\n",
              "      <td>147.10</td>\n",
              "      <td>106820000.0</td>\n",
              "      <td>-0.0045</td>\n",
              "    </tr>\n",
              "  </tbody>\n",
              "</table>\n",
              "</div>"
            ],
            "text/plain": [
              "             Close    Open    High     Low       Volume  Change\n",
              "Date                                                           \n",
              "2021-07-09  145.11  142.75  145.65  142.65   99890000.0  0.0131\n",
              "2021-07-12  144.50  146.22  146.22  144.04   76300000.0 -0.0042\n",
              "2021-07-13  145.64  143.70  147.46  143.70  100830000.0  0.0079\n",
              "2021-07-14  149.15  148.00  149.57  147.70  127050000.0  0.0241\n",
              "2021-07-15  148.48  149.25  149.98  147.10  106820000.0 -0.0045"
            ]
          },
          "metadata": {
            "tags": []
          },
          "execution_count": 14
        }
      ]
    },
    {
      "cell_type": "markdown",
      "metadata": {
        "id": "br-ZtYHEFE4X"
      },
      "source": [
        "다음과 같이 2017을 같이 넘겨주면, 해당 시점 이후의 주식 데이터를 가져옵니다."
      ]
    },
    {
      "cell_type": "code",
      "metadata": {
        "id": "i-TAZbvqE_YC"
      },
      "source": [
        "# Apple(AAPL), 애플\n",
        "apple = fdr.DataReader('AAPL', '2017')"
      ],
      "execution_count": 15,
      "outputs": []
    },
    {
      "cell_type": "code",
      "metadata": {
        "colab": {
          "base_uri": "https://localhost:8080/",
          "height": 235
        },
        "id": "EuF4kk7XFIR_",
        "outputId": "ef363e17-5305-4047-9aa9-82f80ed2a5af"
      },
      "source": [
        "apple.head()\n"
      ],
      "execution_count": 16,
      "outputs": [
        {
          "output_type": "execute_result",
          "data": {
            "text/html": [
              "<div>\n",
              "<style scoped>\n",
              "    .dataframe tbody tr th:only-of-type {\n",
              "        vertical-align: middle;\n",
              "    }\n",
              "\n",
              "    .dataframe tbody tr th {\n",
              "        vertical-align: top;\n",
              "    }\n",
              "\n",
              "    .dataframe thead th {\n",
              "        text-align: right;\n",
              "    }\n",
              "</style>\n",
              "<table border=\"1\" class=\"dataframe\">\n",
              "  <thead>\n",
              "    <tr style=\"text-align: right;\">\n",
              "      <th></th>\n",
              "      <th>Close</th>\n",
              "      <th>Open</th>\n",
              "      <th>High</th>\n",
              "      <th>Low</th>\n",
              "      <th>Volume</th>\n",
              "      <th>Change</th>\n",
              "    </tr>\n",
              "    <tr>\n",
              "      <th>Date</th>\n",
              "      <th></th>\n",
              "      <th></th>\n",
              "      <th></th>\n",
              "      <th></th>\n",
              "      <th></th>\n",
              "      <th></th>\n",
              "    </tr>\n",
              "  </thead>\n",
              "  <tbody>\n",
              "    <tr>\n",
              "      <th>2017-01-03</th>\n",
              "      <td>29.04</td>\n",
              "      <td>28.95</td>\n",
              "      <td>29.08</td>\n",
              "      <td>28.69</td>\n",
              "      <td>115130000.0</td>\n",
              "      <td>0.0031</td>\n",
              "    </tr>\n",
              "    <tr>\n",
              "      <th>2017-01-04</th>\n",
              "      <td>29.00</td>\n",
              "      <td>28.96</td>\n",
              "      <td>29.13</td>\n",
              "      <td>28.94</td>\n",
              "      <td>84470000.0</td>\n",
              "      <td>-0.0014</td>\n",
              "    </tr>\n",
              "    <tr>\n",
              "      <th>2017-01-05</th>\n",
              "      <td>29.15</td>\n",
              "      <td>28.98</td>\n",
              "      <td>29.22</td>\n",
              "      <td>28.95</td>\n",
              "      <td>88770000.0</td>\n",
              "      <td>0.0052</td>\n",
              "    </tr>\n",
              "    <tr>\n",
              "      <th>2017-01-06</th>\n",
              "      <td>29.48</td>\n",
              "      <td>29.20</td>\n",
              "      <td>29.54</td>\n",
              "      <td>29.12</td>\n",
              "      <td>127010000.0</td>\n",
              "      <td>0.0113</td>\n",
              "    </tr>\n",
              "    <tr>\n",
              "      <th>2017-01-09</th>\n",
              "      <td>29.75</td>\n",
              "      <td>29.49</td>\n",
              "      <td>29.86</td>\n",
              "      <td>29.48</td>\n",
              "      <td>134250000.0</td>\n",
              "      <td>0.0092</td>\n",
              "    </tr>\n",
              "  </tbody>\n",
              "</table>\n",
              "</div>"
            ],
            "text/plain": [
              "            Close   Open   High    Low       Volume  Change\n",
              "Date                                                       \n",
              "2017-01-03  29.04  28.95  29.08  28.69  115130000.0  0.0031\n",
              "2017-01-04  29.00  28.96  29.13  28.94   84470000.0 -0.0014\n",
              "2017-01-05  29.15  28.98  29.22  28.95   88770000.0  0.0052\n",
              "2017-01-06  29.48  29.20  29.54  29.12  127010000.0  0.0113\n",
              "2017-01-09  29.75  29.49  29.86  29.48  134250000.0  0.0092"
            ]
          },
          "metadata": {
            "tags": []
          },
          "execution_count": 16
        }
      ]
    },
    {
      "cell_type": "markdown",
      "metadata": {
        "id": "ukFjMMDeFMb_"
      },
      "source": [
        "시작과 끝 날짜를 지정하여 범위 데이터를 가져올 수 있습니다.\n",
        "\n"
      ]
    },
    {
      "cell_type": "code",
      "metadata": {
        "id": "AFee5U-TFK_t"
      },
      "source": [
        "# Ford(F), 1980-01-01 ~ 2019-12-30 (40년 데이터)\n",
        "ford = fdr.DataReader('F', '1980-01-01', '2019-12-30')"
      ],
      "execution_count": 17,
      "outputs": []
    },
    {
      "cell_type": "code",
      "metadata": {
        "colab": {
          "base_uri": "https://localhost:8080/",
          "height": 235
        },
        "id": "FlmtlbaKFOOL",
        "outputId": "33a7cd43-d0db-4256-d829-9ddf5263b67e"
      },
      "source": [
        "ford.head()\n"
      ],
      "execution_count": 18,
      "outputs": [
        {
          "output_type": "execute_result",
          "data": {
            "text/html": [
              "<div>\n",
              "<style scoped>\n",
              "    .dataframe tbody tr th:only-of-type {\n",
              "        vertical-align: middle;\n",
              "    }\n",
              "\n",
              "    .dataframe tbody tr th {\n",
              "        vertical-align: top;\n",
              "    }\n",
              "\n",
              "    .dataframe thead th {\n",
              "        text-align: right;\n",
              "    }\n",
              "</style>\n",
              "<table border=\"1\" class=\"dataframe\">\n",
              "  <thead>\n",
              "    <tr style=\"text-align: right;\">\n",
              "      <th></th>\n",
              "      <th>Close</th>\n",
              "      <th>Open</th>\n",
              "      <th>High</th>\n",
              "      <th>Low</th>\n",
              "      <th>Volume</th>\n",
              "      <th>Change</th>\n",
              "    </tr>\n",
              "    <tr>\n",
              "      <th>Date</th>\n",
              "      <th></th>\n",
              "      <th></th>\n",
              "      <th></th>\n",
              "      <th></th>\n",
              "      <th></th>\n",
              "      <th></th>\n",
              "    </tr>\n",
              "  </thead>\n",
              "  <tbody>\n",
              "    <tr>\n",
              "      <th>1980-03-18</th>\n",
              "      <td>1.83</td>\n",
              "      <td>1.83</td>\n",
              "      <td>1.85</td>\n",
              "      <td>1.82</td>\n",
              "      <td>3770000.0</td>\n",
              "      <td>-0.0108</td>\n",
              "    </tr>\n",
              "    <tr>\n",
              "      <th>1980-03-19</th>\n",
              "      <td>1.85</td>\n",
              "      <td>1.85</td>\n",
              "      <td>1.86</td>\n",
              "      <td>1.83</td>\n",
              "      <td>1560000.0</td>\n",
              "      <td>0.0109</td>\n",
              "    </tr>\n",
              "    <tr>\n",
              "      <th>1980-03-20</th>\n",
              "      <td>1.86</td>\n",
              "      <td>1.86</td>\n",
              "      <td>1.88</td>\n",
              "      <td>1.85</td>\n",
              "      <td>1450000.0</td>\n",
              "      <td>0.0054</td>\n",
              "    </tr>\n",
              "    <tr>\n",
              "      <th>1980-03-21</th>\n",
              "      <td>1.78</td>\n",
              "      <td>1.78</td>\n",
              "      <td>1.85</td>\n",
              "      <td>1.76</td>\n",
              "      <td>5020000.0</td>\n",
              "      <td>-0.0430</td>\n",
              "    </tr>\n",
              "    <tr>\n",
              "      <th>1980-03-24</th>\n",
              "      <td>1.71</td>\n",
              "      <td>1.71</td>\n",
              "      <td>1.75</td>\n",
              "      <td>1.66</td>\n",
              "      <td>3330000.0</td>\n",
              "      <td>-0.0393</td>\n",
              "    </tr>\n",
              "  </tbody>\n",
              "</table>\n",
              "</div>"
            ],
            "text/plain": [
              "            Close  Open  High   Low     Volume  Change\n",
              "Date                                                  \n",
              "1980-03-18   1.83  1.83  1.85  1.82  3770000.0 -0.0108\n",
              "1980-03-19   1.85  1.85  1.86  1.83  1560000.0  0.0109\n",
              "1980-03-20   1.86  1.86  1.88  1.85  1450000.0  0.0054\n",
              "1980-03-21   1.78  1.78  1.85  1.76  5020000.0 -0.0430\n",
              "1980-03-24   1.71  1.71  1.75  1.66  3330000.0 -0.0393"
            ]
          },
          "metadata": {
            "tags": []
          },
          "execution_count": 18
        }
      ]
    },
    {
      "cell_type": "code",
      "metadata": {
        "colab": {
          "base_uri": "https://localhost:8080/",
          "height": 235
        },
        "id": "4zmg-5qJFvaF",
        "outputId": "abca0438-e37d-48a0-8e1c-7358be8231df"
      },
      "source": [
        "ford.tail()\n"
      ],
      "execution_count": 19,
      "outputs": [
        {
          "output_type": "execute_result",
          "data": {
            "text/html": [
              "<div>\n",
              "<style scoped>\n",
              "    .dataframe tbody tr th:only-of-type {\n",
              "        vertical-align: middle;\n",
              "    }\n",
              "\n",
              "    .dataframe tbody tr th {\n",
              "        vertical-align: top;\n",
              "    }\n",
              "\n",
              "    .dataframe thead th {\n",
              "        text-align: right;\n",
              "    }\n",
              "</style>\n",
              "<table border=\"1\" class=\"dataframe\">\n",
              "  <thead>\n",
              "    <tr style=\"text-align: right;\">\n",
              "      <th></th>\n",
              "      <th>Close</th>\n",
              "      <th>Open</th>\n",
              "      <th>High</th>\n",
              "      <th>Low</th>\n",
              "      <th>Volume</th>\n",
              "      <th>Change</th>\n",
              "    </tr>\n",
              "    <tr>\n",
              "      <th>Date</th>\n",
              "      <th></th>\n",
              "      <th></th>\n",
              "      <th></th>\n",
              "      <th></th>\n",
              "      <th></th>\n",
              "      <th></th>\n",
              "    </tr>\n",
              "  </thead>\n",
              "  <tbody>\n",
              "    <tr>\n",
              "      <th>2019-12-23</th>\n",
              "      <td>9.44</td>\n",
              "      <td>9.50</td>\n",
              "      <td>9.57</td>\n",
              "      <td>9.40</td>\n",
              "      <td>54800000.0</td>\n",
              "      <td>-0.0042</td>\n",
              "    </tr>\n",
              "    <tr>\n",
              "      <th>2019-12-24</th>\n",
              "      <td>9.47</td>\n",
              "      <td>9.44</td>\n",
              "      <td>9.49</td>\n",
              "      <td>9.43</td>\n",
              "      <td>11880000.0</td>\n",
              "      <td>0.0032</td>\n",
              "    </tr>\n",
              "    <tr>\n",
              "      <th>2019-12-26</th>\n",
              "      <td>9.45</td>\n",
              "      <td>9.47</td>\n",
              "      <td>9.49</td>\n",
              "      <td>9.43</td>\n",
              "      <td>28980000.0</td>\n",
              "      <td>-0.0021</td>\n",
              "    </tr>\n",
              "    <tr>\n",
              "      <th>2019-12-27</th>\n",
              "      <td>9.36</td>\n",
              "      <td>9.45</td>\n",
              "      <td>9.46</td>\n",
              "      <td>9.35</td>\n",
              "      <td>28270000.0</td>\n",
              "      <td>-0.0095</td>\n",
              "    </tr>\n",
              "    <tr>\n",
              "      <th>2019-12-30</th>\n",
              "      <td>9.25</td>\n",
              "      <td>9.34</td>\n",
              "      <td>9.35</td>\n",
              "      <td>9.23</td>\n",
              "      <td>36090000.0</td>\n",
              "      <td>-0.0118</td>\n",
              "    </tr>\n",
              "  </tbody>\n",
              "</table>\n",
              "</div>"
            ],
            "text/plain": [
              "            Close  Open  High   Low      Volume  Change\n",
              "Date                                                   \n",
              "2019-12-23   9.44  9.50  9.57  9.40  54800000.0 -0.0042\n",
              "2019-12-24   9.47  9.44  9.49  9.43  11880000.0  0.0032\n",
              "2019-12-26   9.45  9.47  9.49  9.43  28980000.0 -0.0021\n",
              "2019-12-27   9.36  9.45  9.46  9.35  28270000.0 -0.0095\n",
              "2019-12-30   9.25  9.34  9.35  9.23  36090000.0 -0.0118"
            ]
          },
          "metadata": {
            "tags": []
          },
          "execution_count": 19
        }
      ]
    },
    {
      "cell_type": "markdown",
      "metadata": {
        "id": "W52KB8dXFzcs"
      },
      "source": [
        "그 밖에 금, 은과 같은 현물, 달러와 같은 화폐 데이터도 가져올 수 있습니다.\n",
        "\n",
        "더욱 자세한 내용은 GitHub 페이지 링크를 참고해 보시기 바랍니다."
      ]
    },
    {
      "cell_type": "markdown",
      "metadata": {
        "id": "F6vWD-LtF4ap"
      },
      "source": [
        "#주가데이터 가져오기\n"
      ]
    },
    {
      "cell_type": "markdown",
      "metadata": {
        "id": "vHFfcT-tF7S2"
      },
      "source": [
        "지난 주식 예측 튜토리얼에서는 삼성전자 주가데이터로 실습을 해봤으니,\n",
        "\n",
        "이번에는 글로벌 증시의 대장주인 Apple사의 주가데이터를 가져와서 예측해 보도록 하겠습니다"
      ]
    },
    {
      "cell_type": "code",
      "metadata": {
        "id": "ESl2fiE2Fwje"
      },
      "source": [
        "# 삼성전자 주식코드: 005930\n",
        "STOCK_CODE = '005930'"
      ],
      "execution_count": 20,
      "outputs": []
    },
    {
      "cell_type": "code",
      "metadata": {
        "id": "G82YvUmxF_ph"
      },
      "source": [
        "stock = fdr.DataReader(STOCK_CODE)\n"
      ],
      "execution_count": 21,
      "outputs": []
    },
    {
      "cell_type": "code",
      "metadata": {
        "colab": {
          "base_uri": "https://localhost:8080/",
          "height": 235
        },
        "id": "hzkydLQ4GA4-",
        "outputId": "c73c7012-42cc-41a8-beb6-eeefc99fa6b1"
      },
      "source": [
        "stock.head()\n"
      ],
      "execution_count": 22,
      "outputs": [
        {
          "output_type": "execute_result",
          "data": {
            "text/html": [
              "<div>\n",
              "<style scoped>\n",
              "    .dataframe tbody tr th:only-of-type {\n",
              "        vertical-align: middle;\n",
              "    }\n",
              "\n",
              "    .dataframe tbody tr th {\n",
              "        vertical-align: top;\n",
              "    }\n",
              "\n",
              "    .dataframe thead th {\n",
              "        text-align: right;\n",
              "    }\n",
              "</style>\n",
              "<table border=\"1\" class=\"dataframe\">\n",
              "  <thead>\n",
              "    <tr style=\"text-align: right;\">\n",
              "      <th></th>\n",
              "      <th>Open</th>\n",
              "      <th>High</th>\n",
              "      <th>Low</th>\n",
              "      <th>Close</th>\n",
              "      <th>Volume</th>\n",
              "      <th>Change</th>\n",
              "    </tr>\n",
              "    <tr>\n",
              "      <th>Date</th>\n",
              "      <th></th>\n",
              "      <th></th>\n",
              "      <th></th>\n",
              "      <th></th>\n",
              "      <th></th>\n",
              "      <th></th>\n",
              "    </tr>\n",
              "  </thead>\n",
              "  <tbody>\n",
              "    <tr>\n",
              "      <th>1997-07-09</th>\n",
              "      <td>1238</td>\n",
              "      <td>1247</td>\n",
              "      <td>1217</td>\n",
              "      <td>1240</td>\n",
              "      <td>53680</td>\n",
              "      <td>NaN</td>\n",
              "    </tr>\n",
              "    <tr>\n",
              "      <th>1997-07-10</th>\n",
              "      <td>1242</td>\n",
              "      <td>1243</td>\n",
              "      <td>1220</td>\n",
              "      <td>1233</td>\n",
              "      <td>115250</td>\n",
              "      <td>-0.005645</td>\n",
              "    </tr>\n",
              "    <tr>\n",
              "      <th>1997-07-11</th>\n",
              "      <td>1227</td>\n",
              "      <td>1233</td>\n",
              "      <td>1209</td>\n",
              "      <td>1215</td>\n",
              "      <td>37380</td>\n",
              "      <td>-0.014599</td>\n",
              "    </tr>\n",
              "    <tr>\n",
              "      <th>1997-07-12</th>\n",
              "      <td>1206</td>\n",
              "      <td>1215</td>\n",
              "      <td>1202</td>\n",
              "      <td>1208</td>\n",
              "      <td>41660</td>\n",
              "      <td>-0.005761</td>\n",
              "    </tr>\n",
              "    <tr>\n",
              "      <th>1997-07-14</th>\n",
              "      <td>1200</td>\n",
              "      <td>1217</td>\n",
              "      <td>1190</td>\n",
              "      <td>1208</td>\n",
              "      <td>131010</td>\n",
              "      <td>0.000000</td>\n",
              "    </tr>\n",
              "  </tbody>\n",
              "</table>\n",
              "</div>"
            ],
            "text/plain": [
              "            Open  High   Low  Close  Volume    Change\n",
              "Date                                                 \n",
              "1997-07-09  1238  1247  1217   1240   53680       NaN\n",
              "1997-07-10  1242  1243  1220   1233  115250 -0.005645\n",
              "1997-07-11  1227  1233  1209   1215   37380 -0.014599\n",
              "1997-07-12  1206  1215  1202   1208   41660 -0.005761\n",
              "1997-07-14  1200  1217  1190   1208  131010  0.000000"
            ]
          },
          "metadata": {
            "tags": []
          },
          "execution_count": 22
        }
      ]
    },
    {
      "cell_type": "code",
      "metadata": {
        "colab": {
          "base_uri": "https://localhost:8080/",
          "height": 235
        },
        "id": "etp__Wd0GCOw",
        "outputId": "22109edb-0ea5-4dcc-b786-22ef81fe4e83"
      },
      "source": [
        "stock.tail()\n"
      ],
      "execution_count": 23,
      "outputs": [
        {
          "output_type": "execute_result",
          "data": {
            "text/html": [
              "<div>\n",
              "<style scoped>\n",
              "    .dataframe tbody tr th:only-of-type {\n",
              "        vertical-align: middle;\n",
              "    }\n",
              "\n",
              "    .dataframe tbody tr th {\n",
              "        vertical-align: top;\n",
              "    }\n",
              "\n",
              "    .dataframe thead th {\n",
              "        text-align: right;\n",
              "    }\n",
              "</style>\n",
              "<table border=\"1\" class=\"dataframe\">\n",
              "  <thead>\n",
              "    <tr style=\"text-align: right;\">\n",
              "      <th></th>\n",
              "      <th>Open</th>\n",
              "      <th>High</th>\n",
              "      <th>Low</th>\n",
              "      <th>Close</th>\n",
              "      <th>Volume</th>\n",
              "      <th>Change</th>\n",
              "    </tr>\n",
              "    <tr>\n",
              "      <th>Date</th>\n",
              "      <th></th>\n",
              "      <th></th>\n",
              "      <th></th>\n",
              "      <th></th>\n",
              "      <th></th>\n",
              "      <th></th>\n",
              "    </tr>\n",
              "  </thead>\n",
              "  <tbody>\n",
              "    <tr>\n",
              "      <th>2021-07-12</th>\n",
              "      <td>79900</td>\n",
              "      <td>80000</td>\n",
              "      <td>79500</td>\n",
              "      <td>79700</td>\n",
              "      <td>9768108</td>\n",
              "      <td>0.003778</td>\n",
              "    </tr>\n",
              "    <tr>\n",
              "      <th>2021-07-13</th>\n",
              "      <td>80000</td>\n",
              "      <td>80200</td>\n",
              "      <td>79800</td>\n",
              "      <td>79800</td>\n",
              "      <td>9863450</td>\n",
              "      <td>0.001255</td>\n",
              "    </tr>\n",
              "    <tr>\n",
              "      <th>2021-07-14</th>\n",
              "      <td>79400</td>\n",
              "      <td>79600</td>\n",
              "      <td>79100</td>\n",
              "      <td>79500</td>\n",
              "      <td>11575636</td>\n",
              "      <td>-0.003759</td>\n",
              "    </tr>\n",
              "    <tr>\n",
              "      <th>2021-07-15</th>\n",
              "      <td>79800</td>\n",
              "      <td>80600</td>\n",
              "      <td>79500</td>\n",
              "      <td>80600</td>\n",
              "      <td>13766279</td>\n",
              "      <td>0.013836</td>\n",
              "    </tr>\n",
              "    <tr>\n",
              "      <th>2021-07-16</th>\n",
              "      <td>80100</td>\n",
              "      <td>80100</td>\n",
              "      <td>79500</td>\n",
              "      <td>79800</td>\n",
              "      <td>10780961</td>\n",
              "      <td>-0.009926</td>\n",
              "    </tr>\n",
              "  </tbody>\n",
              "</table>\n",
              "</div>"
            ],
            "text/plain": [
              "             Open   High    Low  Close    Volume    Change\n",
              "Date                                                      \n",
              "2021-07-12  79900  80000  79500  79700   9768108  0.003778\n",
              "2021-07-13  80000  80200  79800  79800   9863450  0.001255\n",
              "2021-07-14  79400  79600  79100  79500  11575636 -0.003759\n",
              "2021-07-15  79800  80600  79500  80600  13766279  0.013836\n",
              "2021-07-16  80100  80100  79500  79800  10780961 -0.009926"
            ]
          },
          "metadata": {
            "tags": []
          },
          "execution_count": 23
        }
      ]
    },
    {
      "cell_type": "code",
      "metadata": {
        "colab": {
          "base_uri": "https://localhost:8080/"
        },
        "id": "CC53zziHGDye",
        "outputId": "f540c2a3-8fd4-472a-c230-165ebc8984c0"
      },
      "source": [
        "stock.index\n"
      ],
      "execution_count": 24,
      "outputs": [
        {
          "output_type": "execute_result",
          "data": {
            "text/plain": [
              "DatetimeIndex(['1997-07-09', '1997-07-10', '1997-07-11', '1997-07-12',\n",
              "               '1997-07-14', '1997-07-15', '1997-07-16', '1997-07-18',\n",
              "               '1997-07-19', '1997-07-21',\n",
              "               ...\n",
              "               '2021-07-05', '2021-07-06', '2021-07-07', '2021-07-08',\n",
              "               '2021-07-09', '2021-07-12', '2021-07-13', '2021-07-14',\n",
              "               '2021-07-15', '2021-07-16'],\n",
              "              dtype='datetime64[ns]', name='Date', length=6000, freq=None)"
            ]
          },
          "metadata": {
            "tags": []
          },
          "execution_count": 24
        }
      ]
    },
    {
      "cell_type": "markdown",
      "metadata": {
        "id": "8QQ3yl5zGF1f"
      },
      "source": [
        "위에서 보시는 바와 같이 index가 DatetimeIndex로 지정되어 있습니다.\n",
        "\n",
        "DatetimeIndex로 정의되어 있다면, 아래와 같이 연도, 월, 일을 쪼갤 수 있으며, 월별, 연도별 피벗데이터를 만들때 유용하게 활용할 수 있습니다."
      ]
    },
    {
      "cell_type": "code",
      "metadata": {
        "id": "mtyFiQLnGHmO"
      },
      "source": [
        "stock['Year'] = stock.index.year\n",
        "stock['Month'] = stock.index.month\n",
        "stock['Day'] = stock.index.day"
      ],
      "execution_count": 25,
      "outputs": []
    },
    {
      "cell_type": "code",
      "metadata": {
        "colab": {
          "base_uri": "https://localhost:8080/",
          "height": 235
        },
        "id": "yrrE2eftGI1N",
        "outputId": "ef71aaa2-250b-4f6a-ebe5-5cbdb7aa7758"
      },
      "source": [
        "stock.head()\n"
      ],
      "execution_count": 26,
      "outputs": [
        {
          "output_type": "execute_result",
          "data": {
            "text/html": [
              "<div>\n",
              "<style scoped>\n",
              "    .dataframe tbody tr th:only-of-type {\n",
              "        vertical-align: middle;\n",
              "    }\n",
              "\n",
              "    .dataframe tbody tr th {\n",
              "        vertical-align: top;\n",
              "    }\n",
              "\n",
              "    .dataframe thead th {\n",
              "        text-align: right;\n",
              "    }\n",
              "</style>\n",
              "<table border=\"1\" class=\"dataframe\">\n",
              "  <thead>\n",
              "    <tr style=\"text-align: right;\">\n",
              "      <th></th>\n",
              "      <th>Open</th>\n",
              "      <th>High</th>\n",
              "      <th>Low</th>\n",
              "      <th>Close</th>\n",
              "      <th>Volume</th>\n",
              "      <th>Change</th>\n",
              "      <th>Year</th>\n",
              "      <th>Month</th>\n",
              "      <th>Day</th>\n",
              "    </tr>\n",
              "    <tr>\n",
              "      <th>Date</th>\n",
              "      <th></th>\n",
              "      <th></th>\n",
              "      <th></th>\n",
              "      <th></th>\n",
              "      <th></th>\n",
              "      <th></th>\n",
              "      <th></th>\n",
              "      <th></th>\n",
              "      <th></th>\n",
              "    </tr>\n",
              "  </thead>\n",
              "  <tbody>\n",
              "    <tr>\n",
              "      <th>1997-07-09</th>\n",
              "      <td>1238</td>\n",
              "      <td>1247</td>\n",
              "      <td>1217</td>\n",
              "      <td>1240</td>\n",
              "      <td>53680</td>\n",
              "      <td>NaN</td>\n",
              "      <td>1997</td>\n",
              "      <td>7</td>\n",
              "      <td>9</td>\n",
              "    </tr>\n",
              "    <tr>\n",
              "      <th>1997-07-10</th>\n",
              "      <td>1242</td>\n",
              "      <td>1243</td>\n",
              "      <td>1220</td>\n",
              "      <td>1233</td>\n",
              "      <td>115250</td>\n",
              "      <td>-0.005645</td>\n",
              "      <td>1997</td>\n",
              "      <td>7</td>\n",
              "      <td>10</td>\n",
              "    </tr>\n",
              "    <tr>\n",
              "      <th>1997-07-11</th>\n",
              "      <td>1227</td>\n",
              "      <td>1233</td>\n",
              "      <td>1209</td>\n",
              "      <td>1215</td>\n",
              "      <td>37380</td>\n",
              "      <td>-0.014599</td>\n",
              "      <td>1997</td>\n",
              "      <td>7</td>\n",
              "      <td>11</td>\n",
              "    </tr>\n",
              "    <tr>\n",
              "      <th>1997-07-12</th>\n",
              "      <td>1206</td>\n",
              "      <td>1215</td>\n",
              "      <td>1202</td>\n",
              "      <td>1208</td>\n",
              "      <td>41660</td>\n",
              "      <td>-0.005761</td>\n",
              "      <td>1997</td>\n",
              "      <td>7</td>\n",
              "      <td>12</td>\n",
              "    </tr>\n",
              "    <tr>\n",
              "      <th>1997-07-14</th>\n",
              "      <td>1200</td>\n",
              "      <td>1217</td>\n",
              "      <td>1190</td>\n",
              "      <td>1208</td>\n",
              "      <td>131010</td>\n",
              "      <td>0.000000</td>\n",
              "      <td>1997</td>\n",
              "      <td>7</td>\n",
              "      <td>14</td>\n",
              "    </tr>\n",
              "  </tbody>\n",
              "</table>\n",
              "</div>"
            ],
            "text/plain": [
              "            Open  High   Low  Close  Volume    Change  Year  Month  Day\n",
              "Date                                                                   \n",
              "1997-07-09  1238  1247  1217   1240   53680       NaN  1997      7    9\n",
              "1997-07-10  1242  1243  1220   1233  115250 -0.005645  1997      7   10\n",
              "1997-07-11  1227  1233  1209   1215   37380 -0.014599  1997      7   11\n",
              "1997-07-12  1206  1215  1202   1208   41660 -0.005761  1997      7   12\n",
              "1997-07-14  1200  1217  1190   1208  131010  0.000000  1997      7   14"
            ]
          },
          "metadata": {
            "tags": []
          },
          "execution_count": 26
        }
      ]
    },
    {
      "cell_type": "markdown",
      "metadata": {
        "id": "fiXZoVlQGX_T"
      },
      "source": [
        "#시각화\n"
      ]
    },
    {
      "cell_type": "code",
      "metadata": {
        "colab": {
          "base_uri": "https://localhost:8080/",
          "height": 569
        },
        "id": "v6hS_Lk5GWs_",
        "outputId": "8468d73c-fe3b-4b1e-e2f1-e1fdf10526ef"
      },
      "source": [
        "plt.figure(figsize=(16, 9))\n",
        "sns.lineplot(y=stock['Close'], x=stock.index)\n",
        "plt.xlabel('time')\n",
        "plt.ylabel('price')"
      ],
      "execution_count": 27,
      "outputs": [
        {
          "output_type": "execute_result",
          "data": {
            "text/plain": [
              "Text(0, 0.5, 'price')"
            ]
          },
          "metadata": {
            "tags": []
          },
          "execution_count": 27
        },
        {
          "output_type": "stream",
          "text": [
            "findfont: Font family ['NanumGothic'] not found. Falling back to DejaVu Sans.\n"
          ],
          "name": "stderr"
        },
        {
          "output_type": "display_data",
          "data": {
            "image/png": "[encoded data removed]",
            "text/plain": [
              "<Figure size 1152x648 with 1 Axes>"
            ]
          },
          "metadata": {
            "tags": [],
            "needs_background": "light"
          }
        }
      ]
    },
    {
      "cell_type": "code",
      "metadata": {
        "colab": {
          "base_uri": "https://localhost:8080/",
          "height": 585
        },
        "id": "3Th6m-WWGZz0",
        "outputId": "b9f2b2da-97b8-4346-c3d5-38834317d928"
      },
      "source": [
        "time_steps = [['1990', '2000'], \n",
        "              ['2000', '2010'], \n",
        "              ['2010', '2015'], \n",
        "              ['2015', '2020']]\n",
        "\n",
        "fig, axes = plt.subplots(2, 2)\n",
        "fig.set_size_inches(16, 9)\n",
        "for i in range(4):\n",
        "    ax = axes[i//2, i%2]\n",
        "    df = stock.loc[(stock.index > time_steps[i][0]) & (stock.index < time_steps[i][1])]\n",
        "    sns.lineplot(y=df['Close'], x=df.index, ax=ax)\n",
        "    ax.set_title(f'{time_steps[i][0]}~{time_steps[i][1]}')\n",
        "    ax.set_xlabel('time')\n",
        "    ax.set_ylabel('price')\n",
        "    plt.tight_layout()\n",
        "plt.show()"
      ],
      "execution_count": 28,
      "outputs": [
        {
          "output_type": "stream",
          "text": [
            "findfont: Font family ['NanumGothic'] not found. Falling back to DejaVu Sans.\n"
          ],
          "name": "stderr"
        },
        {
          "output_type": "display_data",
          "data": {
            "image/png": "[encoded data removed]",
            "text/plain": [
              "<Figure size 1152x648 with 4 Axes>"
            ]
          },
          "metadata": {
            "tags": [],
            "needs_background": "light"
          }
        }
      ]
    },
    {
      "cell_type": "markdown",
      "metadata": {
        "id": "pqe29FqPGe_q"
      },
      "source": [
        "#데이터 전처리\n"
      ]
    },
    {
      "cell_type": "markdown",
      "metadata": {
        "id": "E-eugjv5GhYm"
      },
      "source": [
        "주가 데이터에 대하여 딥러닝 모델이 더 잘 학습할 수 있도록 정규화(Normalization)를 해주도록 하겠습니다.\n",
        "\n",
        "표준화 (Standardization)와 정규화(Normalization)에 대한 내용은 아래 링크에서 더 자세히 다루니, 참고해 보시기 바랍니다."
      ]
    },
    {
      "cell_type": "code",
      "metadata": {
        "colab": {
          "base_uri": "https://localhost:8080/"
        },
        "id": "YjW9NkHsGb2P",
        "outputId": "c25f4dd8-99e7-471b-bc1f-21d0e7fd4634"
      },
      "source": [
        "from sklearn.preprocessing import MinMaxScaler\n",
        "\n",
        "scaler = MinMaxScaler() # MinMaxScaler()는 0~1사이의 값으로 변환 #standarscaler는 -1 ~ +1로 변환\n",
        "# 스케일을 적용할 column을 정의합니다.\n",
        "scale_cols = ['Open', 'High', 'Low', 'Close', 'Volume']\n",
        "# 스케일 후 columns\n",
        "scaled = scaler.fit_transform(stock[scale_cols])\n",
        "scaled"
      ],
      "execution_count": 29,
      "outputs": [
        {
          "output_type": "execute_result",
          "data": {
            "text/plain": [
              "array([[1.37098560e-02, 1.28822314e-02, 1.35977654e-02, 6.78299935e-03,\n",
              "        5.94422240e-04],\n",
              "       [1.37541528e-02, 1.28409091e-02, 1.36312849e-02, 6.70554258e-03,\n",
              "        1.27621392e-03],\n",
              "       [1.35880399e-02, 1.27376033e-02, 1.35083799e-02, 6.50636805e-03,\n",
              "        4.13925174e-04],\n",
              "       ...,\n",
              "       [8.79291251e-01, 8.22314050e-01, 8.83798883e-01, 8.72749604e-01,\n",
              "        1.28182107e-01],\n",
              "       [8.83720930e-01, 8.32644628e-01, 8.88268156e-01, 8.84921381e-01,\n",
              "        1.52440060e-01],\n",
              "       [8.87043189e-01, 8.27479339e-01, 8.88268156e-01, 8.76069180e-01,\n",
              "        1.19382321e-01]])"
            ]
          },
          "metadata": {
            "tags": []
          },
          "execution_count": 29
        }
      ]
    },
    {
      "cell_type": "markdown",
      "metadata": {
        "id": "oYstuLMsG0e_"
      },
      "source": [
        "스케일이 완료된 column으로 새로운 데이터프레임을 생성합니다.\n",
        "\n",
        "시간 순으로 정렬되어 있으며, datetime index는 제외했습니다.\n",
        "\n",
        "6,000개의 row, 5개 column으로 이루어진 데이터셋이 DataFrame으로 정리되었습니다."
      ]
    },
    {
      "cell_type": "code",
      "metadata": {
        "id": "4oMZbny3Gynq"
      },
      "source": [
        "df = pd.DataFrame(scaled, columns=scale_cols)\n"
      ],
      "execution_count": 30,
      "outputs": []
    },
    {
      "cell_type": "markdown",
      "metadata": {
        "id": "76F4zPoTG8By"
      },
      "source": [
        "#train / test 분할\n"
      ]
    },
    {
      "cell_type": "code",
      "metadata": {
        "id": "u2C0ZiEaG6n-"
      },
      "source": [
        "from sklearn.model_selection import train_test_split\n"
      ],
      "execution_count": 31,
      "outputs": []
    },
    {
      "cell_type": "code",
      "metadata": {
        "id": "--msGuwtG999"
      },
      "source": [
        "x_train, x_test, y_train, y_test = train_test_split(df.drop('Close', 1), df['Close'], test_size=0.2, random_state=0, shuffle=False)\n"
      ],
      "execution_count": 32,
      "outputs": []
    },
    {
      "cell_type": "code",
      "metadata": {
        "colab": {
          "base_uri": "https://localhost:8080/"
        },
        "id": "5Vbf1AgIG_os",
        "outputId": "4520c9a3-89b3-492f-c201-05e73d370dc3"
      },
      "source": [
        "x_train.shape, y_train.shape\n"
      ],
      "execution_count": 33,
      "outputs": [
        {
          "output_type": "execute_result",
          "data": {
            "text/plain": [
              "((4800, 4), (4800,))"
            ]
          },
          "metadata": {
            "tags": []
          },
          "execution_count": 33
        }
      ]
    },
    {
      "cell_type": "code",
      "metadata": {
        "colab": {
          "base_uri": "https://localhost:8080/"
        },
        "id": "6ms780roHAnR",
        "outputId": "fe063f31-bdc3-4b37-a3a6-31aa0d61bdc7"
      },
      "source": [
        "x_test.shape, y_test.shape\n"
      ],
      "execution_count": 34,
      "outputs": [
        {
          "output_type": "execute_result",
          "data": {
            "text/plain": [
              "((1200, 4), (1200,))"
            ]
          },
          "metadata": {
            "tags": []
          },
          "execution_count": 34
        }
      ]
    },
    {
      "cell_type": "markdown",
      "metadata": {
        "id": "ZPTSzqOGHFYy"
      },
      "source": [
        "#TensroFlow Dataset을 활용한 시퀀스 데이터셋 구성\n"
      ]
    },
    {
      "cell_type": "code",
      "metadata": {
        "id": "4HpUbNXLHCrC"
      },
      "source": [
        "import tensorflow as tf\n"
      ],
      "execution_count": 35,
      "outputs": []
    },
    {
      "cell_type": "code",
      "metadata": {
        "id": "pg4cxDx5HGz0"
      },
      "source": [
        "def windowed_dataset(series, window_size, batch_size, shuffle):\n",
        "    series = tf.expand_dims(series, axis=-1)\n",
        "    ds = tf.data.Dataset.from_tensor_slices(series)\n",
        "    ds = ds.window(window_size + 1, shift=1, drop_remainder=True)\n",
        "    ds = ds.flat_map(lambda w: w.batch(window_size + 1))\n",
        "    if shuffle:\n",
        "        ds = ds.shuffle(1000)\n",
        "    ds = ds.map(lambda w: (w[:-1], w[-1]))\n",
        "    return ds.batch(batch_size).prefetch(1)"
      ],
      "execution_count": 36,
      "outputs": []
    },
    {
      "cell_type": "markdown",
      "metadata": {
        "id": "3uNH5K2THJBl"
      },
      "source": [
        "Hyperparameter를 정의합니다.\n",
        "\n"
      ]
    },
    {
      "cell_type": "code",
      "metadata": {
        "id": "HwvqdmO6HH8q"
      },
      "source": [
        "WINDOW_SIZE=20\n",
        "BATCH_SIZE=32"
      ],
      "execution_count": 37,
      "outputs": []
    },
    {
      "cell_type": "code",
      "metadata": {
        "id": "OscMTa-wHKIf"
      },
      "source": [
        "# trian_data는 학습용 데이터셋, test_data는 검증용 데이터셋 입니다.\n",
        "train_data = windowed_dataset(y_train, WINDOW_SIZE, BATCH_SIZE, True)\n",
        "test_data = windowed_dataset(y_test, WINDOW_SIZE, BATCH_SIZE, False)"
      ],
      "execution_count": 38,
      "outputs": []
    },
    {
      "cell_type": "code",
      "metadata": {
        "colab": {
          "base_uri": "https://localhost:8080/"
        },
        "id": "Jk7e6M3XHLtS",
        "outputId": "7d4fd058-f707-4131-ef7d-d97f3ea0069b"
      },
      "source": [
        "# 아래의 코드로 데이터셋의 구성을 확인해 볼 수 있습니다.\n",
        "# X: (batch_size, window_size, feature)\n",
        "# Y: (batch_size, feature)\n",
        "for data in train_data.take(1):\n",
        "    print(f'데이터셋(X) 구성(batch_size, window_size, feature갯수): {data[0].shape}')\n",
        "    print(f'데이터셋(Y) 구성(batch_size, window_size, feature갯수): {data[1].shape}')"
      ],
      "execution_count": 39,
      "outputs": [
        {
          "output_type": "stream",
          "text": [
            "데이터셋(X) 구성(batch_size, window_size, feature갯수): (32, 20, 1)\n",
            "데이터셋(Y) 구성(batch_size, window_size, feature갯수): (32, 1)\n"
          ],
          "name": "stdout"
        }
      ]
    },
    {
      "cell_type": "markdown",
      "metadata": {
        "id": "A1Go9x4ZHZqm"
      },
      "source": [
        "#모델"
      ]
    },
    {
      "cell_type": "code",
      "metadata": {
        "id": "185zZIOtHNMq"
      },
      "source": [
        "from tensorflow.keras.models import Sequential\n",
        "from tensorflow.keras.layers import Dense, LSTM, Conv1D, Lambda\n",
        "from tensorflow.keras.losses import Huber\n",
        "from tensorflow.keras.optimizers import Adam\n",
        "from tensorflow.keras.callbacks import EarlyStopping, ModelCheckpoint\n",
        "\n",
        "\n",
        "model = Sequential([\n",
        "    # 1차원 feature map 생성\n",
        "    Conv1D(filters=32, kernel_size=5,\n",
        "           padding=\"causal\",\n",
        "           activation=\"relu\",\n",
        "           input_shape=[WINDOW_SIZE, 1]),\n",
        "    # LSTM\n",
        "    LSTM(16, activation='tanh'),\n",
        "    Dense(16, activation=\"relu\"),\n",
        "    Dense(1),\n",
        "])"
      ],
      "execution_count": 40,
      "outputs": []
    },
    {
      "cell_type": "code",
      "metadata": {
        "id": "SL-_UnxCHb6J"
      },
      "source": [
        "# Sequence 학습에 비교적 좋은 퍼포먼스를 내는 Huber()를 사용합니다.\n",
        "loss = Huber()\n",
        "optimizer = Adam(0.0005)\n",
        "model.compile(loss=Huber(), optimizer=optimizer, metrics=['mse'])"
      ],
      "execution_count": 41,
      "outputs": []
    },
    {
      "cell_type": "code",
      "metadata": {
        "id": "ghL2dUEDHdf3"
      },
      "source": [
        "# earlystopping은 10번 epoch통안 val_loss 개선이 없다면 학습을 멈춥니다.\n",
        "earlystopping = EarlyStopping(monitor='val_loss', patience=10)\n",
        "# val_loss 기준 체크포인터도 생성합니다.\n",
        "filename = os.path.join('tmp', 'ckeckpointer.ckpt')\n",
        "checkpoint = ModelCheckpoint(filename, \n",
        "                             save_weights_only=True, \n",
        "                             save_best_only=True, \n",
        "                             monitor='val_loss', \n",
        "                             verbose=1)"
      ],
      "execution_count": 42,
      "outputs": []
    },
    {
      "cell_type": "code",
      "metadata": {
        "colab": {
          "base_uri": "https://localhost:8080/"
        },
        "id": "M0OT_uqsHgM_",
        "outputId": "989c790c-cbd1-42cc-fcf6-ace1c8a1e06c"
      },
      "source": [
        "history = model.fit(train_data, \n",
        "                    validation_data=(test_data), \n",
        "                    epochs=50, \n",
        "                    callbacks=[checkpoint, earlystopping])"
      ],
      "execution_count": 43,
      "outputs": [
        {
          "output_type": "stream",
          "text": [
            "Epoch 1/50\n",
            "150/150 [==============================] - 5s 16ms/step - loss: 5.7387e-05 - mse: 1.1477e-04 - val_loss: 9.4712e-04 - val_mse: 0.0019\n",
            "\n",
            "Epoch 00001: val_loss improved from inf to 0.00095, saving model to tmp/ckeckpointer.ckpt\n",
            "Epoch 2/50\n",
            "150/150 [==============================] - 2s 13ms/step - loss: 2.1186e-05 - mse: 4.2372e-05 - val_loss: 0.0011 - val_mse: 0.0022\n",
            "\n",
            "Epoch 00002: val_loss did not improve from 0.00095\n",
            "Epoch 3/50\n",
            "150/150 [==============================] - 2s 12ms/step - loss: 1.9696e-05 - mse: 3.9391e-05 - val_loss: 0.0012 - val_mse: 0.0024\n",
            "\n",
            "Epoch 00003: val_loss did not improve from 0.00095\n",
            "Epoch 4/50\n",
            "150/150 [==============================] - 2s 12ms/step - loss: 1.9006e-05 - mse: 3.8011e-05 - val_loss: 9.6865e-04 - val_mse: 0.0019\n",
            "\n",
            "Epoch 00004: val_loss did not improve from 0.00095\n",
            "Epoch 5/50\n",
            "150/150 [==============================] - 2s 13ms/step - loss: 2.1751e-05 - mse: 4.3503e-05 - val_loss: 0.0012 - val_mse: 0.0023\n",
            "\n",
            "Epoch 00005: val_loss did not improve from 0.00095\n",
            "Epoch 6/50\n",
            "150/150 [==============================] - 2s 13ms/step - loss: 1.8296e-05 - mse: 3.6592e-05 - val_loss: 8.6598e-04 - val_mse: 0.0017\n",
            "\n",
            "Epoch 00006: val_loss improved from 0.00095 to 0.00087, saving model to tmp/ckeckpointer.ckpt\n",
            "Epoch 7/50\n",
            "150/150 [==============================] - 2s 12ms/step - loss: 1.6774e-05 - mse: 3.3549e-05 - val_loss: 8.6769e-04 - val_mse: 0.0017\n",
            "\n",
            "Epoch 00007: val_loss did not improve from 0.00087\n",
            "Epoch 8/50\n",
            "150/150 [==============================] - 2s 12ms/step - loss: 1.7986e-05 - mse: 3.5971e-05 - val_loss: 7.7155e-04 - val_mse: 0.0015\n",
            "\n",
            "Epoch 00008: val_loss improved from 0.00087 to 0.00077, saving model to tmp/ckeckpointer.ckpt\n",
            "Epoch 9/50\n",
            "150/150 [==============================] - 2s 13ms/step - loss: 1.6004e-05 - mse: 3.2009e-05 - val_loss: 7.2689e-04 - val_mse: 0.0015\n",
            "\n",
            "Epoch 00009: val_loss improved from 0.00077 to 0.00073, saving model to tmp/ckeckpointer.ckpt\n",
            "Epoch 10/50\n",
            "150/150 [==============================] - 2s 12ms/step - loss: 1.5068e-05 - mse: 3.0135e-05 - val_loss: 6.2137e-04 - val_mse: 0.0012\n",
            "\n",
            "Epoch 00010: val_loss improved from 0.00073 to 0.00062, saving model to tmp/ckeckpointer.ckpt\n",
            "Epoch 11/50\n",
            "150/150 [==============================] - 2s 12ms/step - loss: 1.5629e-05 - mse: 3.1259e-05 - val_loss: 4.4832e-04 - val_mse: 8.9663e-04\n",
            "\n",
            "Epoch 00011: val_loss improved from 0.00062 to 0.00045, saving model to tmp/ckeckpointer.ckpt\n",
            "Epoch 12/50\n",
            "150/150 [==============================] - 2s 12ms/step - loss: 1.5210e-05 - mse: 3.0420e-05 - val_loss: 6.8758e-04 - val_mse: 0.0014\n",
            "\n",
            "Epoch 00012: val_loss did not improve from 0.00045\n",
            "Epoch 13/50\n",
            "150/150 [==============================] - 2s 12ms/step - loss: 1.3570e-05 - mse: 2.7140e-05 - val_loss: 5.7445e-04 - val_mse: 0.0011\n",
            "\n",
            "Epoch 00013: val_loss did not improve from 0.00045\n",
            "Epoch 14/50\n",
            "150/150 [==============================] - 2s 12ms/step - loss: 1.4872e-05 - mse: 2.9743e-05 - val_loss: 7.5651e-04 - val_mse: 0.0015\n",
            "\n",
            "Epoch 00014: val_loss did not improve from 0.00045\n",
            "Epoch 15/50\n",
            "150/150 [==============================] - 2s 12ms/step - loss: 1.5448e-05 - mse: 3.0895e-05 - val_loss: 7.0574e-04 - val_mse: 0.0014\n",
            "\n",
            "Epoch 00015: val_loss did not improve from 0.00045\n",
            "Epoch 16/50\n",
            "150/150 [==============================] - 2s 12ms/step - loss: 1.4130e-05 - mse: 2.8260e-05 - val_loss: 4.9836e-04 - val_mse: 9.9671e-04\n",
            "\n",
            "Epoch 00016: val_loss did not improve from 0.00045\n",
            "Epoch 17/50\n",
            "150/150 [==============================] - 2s 12ms/step - loss: 1.5040e-05 - mse: 3.0081e-05 - val_loss: 3.5017e-04 - val_mse: 7.0034e-04\n",
            "\n",
            "Epoch 00017: val_loss improved from 0.00045 to 0.00035, saving model to tmp/ckeckpointer.ckpt\n",
            "Epoch 18/50\n",
            "150/150 [==============================] - 2s 12ms/step - loss: 1.3592e-05 - mse: 2.7185e-05 - val_loss: 3.3103e-04 - val_mse: 6.6205e-04\n",
            "\n",
            "Epoch 00018: val_loss improved from 0.00035 to 0.00033, saving model to tmp/ckeckpointer.ckpt\n",
            "Epoch 19/50\n",
            "150/150 [==============================] - 2s 12ms/step - loss: 1.2097e-05 - mse: 2.4193e-05 - val_loss: 3.3112e-04 - val_mse: 6.6223e-04\n",
            "\n",
            "Epoch 00019: val_loss did not improve from 0.00033\n",
            "Epoch 20/50\n",
            "150/150 [==============================] - 2s 12ms/step - loss: 1.1727e-05 - mse: 2.3454e-05 - val_loss: 3.2475e-04 - val_mse: 6.4949e-04\n",
            "\n",
            "Epoch 00020: val_loss improved from 0.00033 to 0.00032, saving model to tmp/ckeckpointer.ckpt\n",
            "Epoch 21/50\n",
            "150/150 [==============================] - 2s 12ms/step - loss: 1.1719e-05 - mse: 2.3439e-05 - val_loss: 2.4740e-04 - val_mse: 4.9480e-04\n",
            "\n",
            "Epoch 00021: val_loss improved from 0.00032 to 0.00025, saving model to tmp/ckeckpointer.ckpt\n",
            "Epoch 22/50\n",
            "150/150 [==============================] - 2s 12ms/step - loss: 1.1382e-05 - mse: 2.2763e-05 - val_loss: 3.1165e-04 - val_mse: 6.2329e-04\n",
            "\n",
            "Epoch 00022: val_loss did not improve from 0.00025\n",
            "Epoch 23/50\n",
            "150/150 [==============================] - 2s 12ms/step - loss: 1.2112e-05 - mse: 2.4224e-05 - val_loss: 3.8517e-04 - val_mse: 7.7034e-04\n",
            "\n",
            "Epoch 00023: val_loss did not improve from 0.00025\n",
            "Epoch 24/50\n",
            "150/150 [==============================] - 2s 12ms/step - loss: 1.1650e-05 - mse: 2.3299e-05 - val_loss: 3.6995e-04 - val_mse: 7.3990e-04\n",
            "\n",
            "Epoch 00024: val_loss did not improve from 0.00025\n",
            "Epoch 25/50\n",
            "150/150 [==============================] - 2s 12ms/step - loss: 1.1638e-05 - mse: 2.3276e-05 - val_loss: 3.3876e-04 - val_mse: 6.7752e-04\n",
            "\n",
            "Epoch 00025: val_loss did not improve from 0.00025\n",
            "Epoch 26/50\n",
            "150/150 [==============================] - 2s 12ms/step - loss: 1.1072e-05 - mse: 2.2144e-05 - val_loss: 2.6037e-04 - val_mse: 5.2074e-04\n",
            "\n",
            "Epoch 00026: val_loss did not improve from 0.00025\n",
            "Epoch 27/50\n",
            "150/150 [==============================] - 2s 12ms/step - loss: 1.0572e-05 - mse: 2.1145e-05 - val_loss: 3.0252e-04 - val_mse: 6.0503e-04\n",
            "\n",
            "Epoch 00027: val_loss did not improve from 0.00025\n",
            "Epoch 28/50\n",
            "150/150 [==============================] - 2s 13ms/step - loss: 1.0201e-05 - mse: 2.0402e-05 - val_loss: 2.4704e-04 - val_mse: 4.9408e-04\n",
            "\n",
            "Epoch 00028: val_loss improved from 0.00025 to 0.00025, saving model to tmp/ckeckpointer.ckpt\n",
            "Epoch 29/50\n",
            "150/150 [==============================] - 2s 12ms/step - loss: 1.0362e-05 - mse: 2.0724e-05 - val_loss: 2.2696e-04 - val_mse: 4.5393e-04\n",
            "\n",
            "Epoch 00029: val_loss improved from 0.00025 to 0.00023, saving model to tmp/ckeckpointer.ckpt\n",
            "Epoch 30/50\n",
            "150/150 [==============================] - 2s 12ms/step - loss: 1.0093e-05 - mse: 2.0185e-05 - val_loss: 2.0736e-04 - val_mse: 4.1472e-04\n",
            "\n",
            "Epoch 00030: val_loss improved from 0.00023 to 0.00021, saving model to tmp/ckeckpointer.ckpt\n",
            "Epoch 31/50\n",
            "150/150 [==============================] - 2s 12ms/step - loss: 1.1246e-05 - mse: 2.2493e-05 - val_loss: 2.2432e-04 - val_mse: 4.4864e-04\n",
            "\n",
            "Epoch 00031: val_loss did not improve from 0.00021\n",
            "Epoch 32/50\n",
            "150/150 [==============================] - 2s 12ms/step - loss: 9.7666e-06 - mse: 1.9533e-05 - val_loss: 2.5885e-04 - val_mse: 5.1769e-04\n",
            "\n",
            "Epoch 00032: val_loss did not improve from 0.00021\n",
            "Epoch 33/50\n",
            "150/150 [==============================] - 2s 12ms/step - loss: 1.1078e-05 - mse: 2.2156e-05 - val_loss: 3.3823e-04 - val_mse: 6.7646e-04\n",
            "\n",
            "Epoch 00033: val_loss did not improve from 0.00021\n",
            "Epoch 34/50\n",
            "150/150 [==============================] - 2s 12ms/step - loss: 9.4778e-06 - mse: 1.8956e-05 - val_loss: 4.1352e-04 - val_mse: 8.2704e-04\n",
            "\n",
            "Epoch 00034: val_loss did not improve from 0.00021\n",
            "Epoch 35/50\n",
            "150/150 [==============================] - 2s 12ms/step - loss: 1.0603e-05 - mse: 2.1206e-05 - val_loss: 4.4045e-04 - val_mse: 8.8090e-04\n",
            "\n",
            "Epoch 00035: val_loss did not improve from 0.00021\n",
            "Epoch 36/50\n",
            "150/150 [==============================] - 2s 13ms/step - loss: 9.5686e-06 - mse: 1.9137e-05 - val_loss: 4.4944e-04 - val_mse: 8.9889e-04\n",
            "\n",
            "Epoch 00036: val_loss did not improve from 0.00021\n",
            "Epoch 37/50\n",
            "150/150 [==============================] - 2s 12ms/step - loss: 9.8212e-06 - mse: 1.9642e-05 - val_loss: 3.4823e-04 - val_mse: 6.9646e-04\n",
            "\n",
            "Epoch 00037: val_loss did not improve from 0.00021\n",
            "Epoch 38/50\n",
            "150/150 [==============================] - 2s 13ms/step - loss: 9.9559e-06 - mse: 1.9912e-05 - val_loss: 3.5492e-04 - val_mse: 7.0985e-04\n",
            "\n",
            "Epoch 00038: val_loss did not improve from 0.00021\n",
            "Epoch 39/50\n",
            "150/150 [==============================] - 2s 13ms/step - loss: 9.5479e-06 - mse: 1.9096e-05 - val_loss: 3.0523e-04 - val_mse: 6.1046e-04\n",
            "\n",
            "Epoch 00039: val_loss did not improve from 0.00021\n",
            "Epoch 40/50\n",
            "150/150 [==============================] - 2s 12ms/step - loss: 9.1095e-06 - mse: 1.8219e-05 - val_loss: 2.5093e-04 - val_mse: 5.0187e-04\n",
            "\n",
            "Epoch 00040: val_loss did not improve from 0.00021\n"
          ],
          "name": "stdout"
        }
      ]
    },
    {
      "cell_type": "code",
      "metadata": {
        "id": "Fpp61ELzHgpr"
      },
      "source": [
        ""
      ],
      "execution_count": null,
      "outputs": []
    },
    {
      "cell_type": "markdown",
      "metadata": {
        "id": "IJEz3V9uHjfr"
      },
      "source": [
        "저장한 ModelCheckpoint 를 로드합니다.\n",
        "\n"
      ]
    },
    {
      "cell_type": "code",
      "metadata": {
        "colab": {
          "base_uri": "https://localhost:8080/"
        },
        "id": "99V_u8RHHj66",
        "outputId": "68e4673c-9398-4e75-b8c6-0264f2e2815c"
      },
      "source": [
        "model.load_weights(filename)\n"
      ],
      "execution_count": 44,
      "outputs": [
        {
          "output_type": "execute_result",
          "data": {
            "text/plain": [
              "<tensorflow.python.training.tracking.util.CheckpointLoadStatus at 0x7f564d27f0d0>"
            ]
          },
          "metadata": {
            "tags": []
          },
          "execution_count": 44
        }
      ]
    },
    {
      "cell_type": "markdown",
      "metadata": {
        "id": "O21va_whHmY2"
      },
      "source": [
        "test_data를 활용하여 예측을 진행합니다.\n",
        "\n"
      ]
    },
    {
      "cell_type": "code",
      "metadata": {
        "id": "KkeUdSqHHlEH"
      },
      "source": [
        "pred = model.predict(test_data)\n"
      ],
      "execution_count": 45,
      "outputs": []
    },
    {
      "cell_type": "code",
      "metadata": {
        "colab": {
          "base_uri": "https://localhost:8080/"
        },
        "id": "n7HiM6ODHnrk",
        "outputId": "5b545354-46b0-40e9-ca10-cacedd0b6574"
      },
      "source": [
        "pred.shape\n"
      ],
      "execution_count": 46,
      "outputs": [
        {
          "output_type": "execute_result",
          "data": {
            "text/plain": [
              "(1180, 1)"
            ]
          },
          "metadata": {
            "tags": []
          },
          "execution_count": 46
        }
      ]
    },
    {
      "cell_type": "markdown",
      "metadata": {
        "id": "Tcett300HqEt"
      },
      "source": [
        "#예측 데이터 시각화\n"
      ]
    },
    {
      "cell_type": "markdown",
      "metadata": {
        "id": "K_f7CNVhHtEB"
      },
      "source": [
        "아래 시각화 코드중 y_test 데이터에 [20:]으로 슬라이싱을 한 이유는\n",
        "\n",
        "예측 데이터에서 20일치의 데이터로 21일치를 예측해야하기 때문에 test_data로 예측 시 앞의 20일은 예측하지 않습니다.\n",
        "\n",
        "따라서, 20번 째 index와 비교하면 더욱 정확합니다."
      ]
    },
    {
      "cell_type": "code",
      "metadata": {
        "colab": {
          "base_uri": "https://localhost:8080/",
          "height": 537
        },
        "id": "tMqRXNL4HorK",
        "outputId": "e01ab93c-725e-43a0-ca2f-5d914ca810bd"
      },
      "source": [
        "plt.figure(figsize=(12, 9))\n",
        "plt.plot(np.asarray(y_test)[20:], label='actual')\n",
        "plt.plot(pred, label='prediction')\n",
        "plt.legend()\n",
        "plt.show()"
      ],
      "execution_count": 47,
      "outputs": [
        {
          "output_type": "display_data",
          "data": {
            "image/png": "[encoded data removed]",
            "text/plain": [
              "<Figure size 864x648 with 1 Axes>"
            ]
          },
          "metadata": {
            "tags": [],
            "needs_background": "light"
          }
        }
      ]
    },
    {
      "cell_type": "code",
      "metadata": {
        "id": "MkjxF3UEHup4"
      },
      "source": [
        ""
      ],
      "execution_count": null,
      "outputs": []
    }
  ]
}